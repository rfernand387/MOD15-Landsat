{
 "cells": [
  {
   "cell_type": "code",
   "execution_count": 2,
   "id": "f3a00d26-6eb0-4a6e-9e03-c2b22b5f0604",
   "metadata": {},
   "outputs": [
    {
     "name": "stderr",
     "output_type": "stream",
     "text": [
      "2022-10-19 20:19:10.809392: I tensorflow/core/platform/cpu_feature_guard.cc:193] This TensorFlow binary is optimized with oneAPI Deep Neural Network Library (oneDNN) to use the following CPU instructions in performance-critical operations:  AVX2 FMA\n",
      "To enable them in other operations, rebuild TensorFlow with the appropriate compiler flags.\n",
      "2022-10-19 20:19:11.130638: W tensorflow/stream_executor/platform/default/dso_loader.cc:64] Could not load dynamic library 'libcudart.so.11.0'; dlerror: libcudart.so.11.0: cannot open shared object file: No such file or directory; LD_LIBRARY_PATH: /usr/lib/mesa-diverted/x86_64-linux-gnu:/usr/lib/x86_64-linux-gnu/mesa:/usr/lib/x86_64-linux-gnu/dri:/usr/lib/x86_64-linux-gnu/gallium-pipe\n",
      "2022-10-19 20:19:11.130698: I tensorflow/stream_executor/cuda/cudart_stub.cc:29] Ignore above cudart dlerror if you do not have a GPU set up on your machine.\n",
      "2022-10-19 20:19:11.179574: E tensorflow/stream_executor/cuda/cuda_blas.cc:2981] Unable to register cuBLAS factory: Attempting to register factory for plugin cuBLAS when one has already been registered\n",
      "2022-10-19 20:19:12.357105: W tensorflow/stream_executor/platform/default/dso_loader.cc:64] Could not load dynamic library 'libnvinfer.so.7'; dlerror: libnvinfer.so.7: cannot open shared object file: No such file or directory; LD_LIBRARY_PATH: /usr/lib/mesa-diverted/x86_64-linux-gnu:/usr/lib/x86_64-linux-gnu/mesa:/usr/lib/x86_64-linux-gnu/dri:/usr/lib/x86_64-linux-gnu/gallium-pipe\n",
      "2022-10-19 20:19:12.357293: W tensorflow/stream_executor/platform/default/dso_loader.cc:64] Could not load dynamic library 'libnvinfer_plugin.so.7'; dlerror: libnvinfer_plugin.so.7: cannot open shared object file: No such file or directory; LD_LIBRARY_PATH: /usr/lib/mesa-diverted/x86_64-linux-gnu:/usr/lib/x86_64-linux-gnu/mesa:/usr/lib/x86_64-linux-gnu/dri:/usr/lib/x86_64-linux-gnu/gallium-pipe\n",
      "2022-10-19 20:19:12.357309: W tensorflow/compiler/tf2tensorrt/utils/py_utils.cc:38] TF-TRT Warning: Cannot dlopen some TensorRT libraries. If you would like to use Nvidia GPU with TensorRT, please make sure the missing libraries mentioned above are installed properly.\n"
     ]
    }
   ],
   "source": [
    "import numpy as np\n",
    "import h5py\n",
    "import os\n",
    "import requests\n",
    "import tempfile\n",
    "import time\n",
    "\n",
    "import scann"
   ]
  },
  {
   "cell_type": "code",
   "execution_count": 3,
   "id": "ebf49946-c5ec-41d6-93bf-081a7829f11f",
   "metadata": {},
   "outputs": [],
   "source": [
    "with tempfile.TemporaryDirectory() as tmp:\n",
    "    response = requests.get(\"http://ann-benchmarks.com/glove-100-angular.hdf5\")\n",
    "    loc = os.path.join(tmp, \"glove.hdf5\")\n",
    "    with open(loc, 'wb') as f:\n",
    "        f.write(response.content)\n",
    "    \n",
    "    glove_h5py = h5py.File(loc, \"r\")"
   ]
  },
  {
   "cell_type": "code",
   "execution_count": 4,
   "id": "012b8d67-c31e-4bb5-8248-d26051deac7f",
   "metadata": {},
   "outputs": [
    {
     "data": {
      "text/plain": [
       "['distances', 'neighbors', 'test', 'train']"
      ]
     },
     "execution_count": 4,
     "metadata": {},
     "output_type": "execute_result"
    }
   ],
   "source": [
    "list(glove_h5py.keys())"
   ]
  },
  {
   "cell_type": "code",
   "execution_count": 5,
   "id": "79758ded-4331-45e8-bd29-0480a0612258",
   "metadata": {},
   "outputs": [
    {
     "name": "stdout",
     "output_type": "stream",
     "text": [
      "(1183514, 100)\n",
      "(10000, 100)\n"
     ]
    }
   ],
   "source": [
    "dataset = glove_h5py['train']\n",
    "queries = glove_h5py['test']\n",
    "print(dataset.shape)\n",
    "print(queries.shape)"
   ]
  },
  {
   "cell_type": "code",
   "execution_count": 14,
   "id": "df60c1e9-7779-4cca-8e19-6abe3e63af5e",
   "metadata": {},
   "outputs": [
    {
     "name": "stderr",
     "output_type": "stream",
     "text": [
      "2022-10-19 20:28:16.387135: I scann/partitioning/partitioner_factory_base.cc:59] Size of sampled dataset for training partition: 249797\n",
      "2022-10-19 20:28:25.078566: I ./scann/partitioning/kmeans_tree_partitioner_utils.h:88] PartitionerFactory ran in 8.691306582s.\n"
     ]
    }
   ],
   "source": [
    "normalized_dataset = dataset / np.linalg.norm(dataset, axis=1)[:, np.newaxis]\n",
    "# configure ScaNN as a tree - asymmetric hash hybrid with reordering\n",
    "# anisotropic quantization as described in the paper; see README\n",
    "\n",
    "# use scann.scann_ops.build() to instead create a TensorFlow-compatible searcher\n",
    "searcher = scann.scann_ops_pybind.builder(normalized_dataset, 1, \"dot_product\").tree(\n",
    "    num_leaves=2000, num_leaves_to_search=100, training_sample_size=250000).score_ah(\n",
    "    2, anisotropic_quantization_threshold=0.2).reorder(100).build()"
   ]
  },
  {
   "cell_type": "code",
   "execution_count": 15,
   "id": "f638bbac-97de-4568-932b-27003e833ae1",
   "metadata": {},
   "outputs": [],
   "source": [
    "neighbors, distances = searcher.search_batched(queries)\n"
   ]
  },
  {
   "cell_type": "code",
   "execution_count": 8,
   "id": "b02b9e70-59be-45f2-a23e-db0d3e365e60",
   "metadata": {},
   "outputs": [
    {
     "name": "stdout",
     "output_type": "stream",
     "text": [
      "['distances', 'neighbors', 'test', 'train']\n"
     ]
    }
   ],
   "source": [
    "print(list(glove_h5py))"
   ]
  },
  {
   "cell_type": "code",
   "execution_count": 16,
   "id": "dfd3d470-ddd9-4683-8e77-425fa2512845",
   "metadata": {},
   "outputs": [
    {
     "name": "stdout",
     "output_type": "stream",
     "text": [
      "[718095]\n"
     ]
    }
   ],
   "source": [
    "print(neighbors[100])"
   ]
  },
  {
   "cell_type": "code",
   "execution_count": 17,
   "id": "2517fb47-eb7d-4162-8a33-711bb08a4d7e",
   "metadata": {},
   "outputs": [
    {
     "name": "stdout",
     "output_type": "stream",
     "text": [
      "[-0.99544   -2.3651    -0.24332   -1.0321     0.42052   -1.1817\n",
      " -0.16451   -1.683      0.49673   -0.27258   -0.025397   0.34188\n",
      "  1.5523     1.3532     0.33297   -0.0056677 -0.76525    0.49587\n",
      "  1.2211     0.83394   -0.20031   -0.59657    0.38485   -0.23487\n",
      " -1.0725     0.95856    0.16161   -1.2496     1.6751     0.73899\n",
      "  0.051347  -0.42702    0.16257   -0.16772    0.40146    0.29837\n",
      "  0.96204   -0.36232   -0.47848    0.78278    0.14834    1.3407\n",
      "  0.47834   -0.39083   -1.037     -0.24643   -0.75841    0.7669\n",
      " -0.37363    0.52741    0.018563  -0.51301    0.97674    0.55232\n",
      "  1.1584     0.73715    1.3055    -0.44743   -0.15961    0.85006\n",
      " -0.34092   -0.67667    0.2317     1.5582     1.2308    -0.62213\n",
      " -0.032801   0.1206    -0.25899   -0.02756   -0.52814   -0.93523\n",
      "  0.58434   -0.24799    0.37692    0.86527    0.069626   1.3096\n",
      "  0.29975   -1.3651    -0.32048   -0.13741    0.33329   -1.9113\n",
      " -0.60222   -0.23921    0.12664   -0.47961   -0.89531    0.62054\n",
      "  0.40869   -0.08503    0.6413    -0.84044   -0.74325   -0.19426\n",
      "  0.098722   0.32648   -0.67621   -0.62692  ]\n"
     ]
    }
   ],
   "source": [
    "print(glove_h5py['train'][1])"
   ]
  },
  {
   "cell_type": "code",
   "execution_count": null,
   "id": "d7e298e0-515c-47ab-a8fb-1458adee5fe0",
   "metadata": {},
   "outputs": [],
   "source": []
  }
 ],
 "metadata": {
  "kernelspec": {
   "display_name": "Python 3 (ipykernel)",
   "language": "python",
   "name": "python3"
  },
  "language_info": {
   "codemirror_mode": {
    "name": "ipython",
    "version": 3
   },
   "file_extension": ".py",
   "mimetype": "text/x-python",
   "name": "python",
   "nbconvert_exporter": "python",
   "pygments_lexer": "ipython3",
   "version": "3.9.12"
  }
 },
 "nbformat": 4,
 "nbformat_minor": 5
}
