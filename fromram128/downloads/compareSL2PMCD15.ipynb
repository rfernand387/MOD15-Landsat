{
 "cells": [
  {
   "cell_type": "code",
   "execution_count": 4,
   "id": "official-nowhere",
   "metadata": {},
   "outputs": [],
   "source": [
    "import ee\n",
    "import numpy as np\n",
    "import pandas as pd\n",
    "import dictionariesSL2P\n",
    "import imageBands as ib\n",
    "import toolsS2 as S2"
   ]
  },
  {
   "cell_type": "code",
   "execution_count": 5,
   "id": "happy-snowboard",
   "metadata": {},
   "outputs": [
    {
     "data": {
      "text/html": [
       "<p>To authorize access needed by Earth Engine, open the following\n",
       "        URL in a web browser and follow the instructions:</p>\n",
       "        <p><a href=https://accounts.google.com/o/oauth2/auth?client_id=517222506229-vsmmajv00ul0bs7p89v5m89qs8eb9359.apps.googleusercontent.com&scope=https%3A%2F%2Fwww.googleapis.com%2Fauth%2Fearthengine+https%3A%2F%2Fwww.googleapis.com%2Fauth%2Fdevstorage.full_control&redirect_uri=urn%3Aietf%3Awg%3Aoauth%3A2.0%3Aoob&response_type=code&code_challenge=PP74yyH3OjkRB-5COJDJU0enoYZuTfb5CkZMgItUk6Q&code_challenge_method=S256>https://accounts.google.com/o/oauth2/auth?client_id=517222506229-vsmmajv00ul0bs7p89v5m89qs8eb9359.apps.googleusercontent.com&scope=https%3A%2F%2Fwww.googleapis.com%2Fauth%2Fearthengine+https%3A%2F%2Fwww.googleapis.com%2Fauth%2Fdevstorage.full_control&redirect_uri=urn%3Aietf%3Awg%3Aoauth%3A2.0%3Aoob&response_type=code&code_challenge=PP74yyH3OjkRB-5COJDJU0enoYZuTfb5CkZMgItUk6Q&code_challenge_method=S256</a></p>\n",
       "        <p>The authorization workflow will generate a code, which you\n",
       "        should paste in the box below</p>\n",
       "        "
      ],
      "text/plain": [
       "<IPython.core.display.HTML object>"
      ]
     },
     "metadata": {},
     "output_type": "display_data"
    },
    {
     "name": "stdin",
     "output_type": "stream",
     "text": [
      "Enter verification code:  4/1AX4XfWinn3oTGENlYTJu9kOCIbGqyNLaA6FV7fm3OMSiwl40OFPY-MW-uPs\n"
     ]
    },
    {
     "name": "stdout",
     "output_type": "stream",
     "text": [
      "\n",
      "Successfully saved authorization token.\n"
     ]
    }
   ],
   "source": [
    "ee.Authenticate()"
   ]
  },
  {
   "cell_type": "code",
   "execution_count": 6,
   "id": "joint-correspondence",
   "metadata": {},
   "outputs": [],
   "source": [
    "ee.Initialize()"
   ]
  },
  {
   "cell_type": "code",
   "execution_count": null,
   "id": "generous-controversy",
   "metadata": {},
   "outputs": [],
   "source": [
    "\n",
    "outputScale=500;\n",
    "coveringGridScale=10000;\n",
    "maxGrids=1;\n",
    "maxImages=1;\n",
    "startDate ='2020-07-01';\n",
    "endDate='2020-08-01';\n",
    "minUnmaskedArea=1000*1000;\n",
    "maxCLOUDY_PIXEL_PERCENTAGE= 100;              \n",
    "minCoveringGridLandCover_PERCENTAGE = 50;    \n",
    "minPixelValidFraction = 0.9;                                   \n",
    "minPixelLandCoverFraction = 0.9;             \n",
    "maxPixelLAICV = 0.5;  \n",
    "tileName = '14UNV'\n",
    "                                    \n",
    "tile1 =  ee.Feature(getSL2PMCD15Samples(S2,ib,SL2P,dictionariesSL2P,outputScale,coveringGridScale,maxGrids,maxImages,startDate,endDate,\n",
    "                                minUnmaskedArea,maxCLOUDY_PIXEL_PERCENTAGE,minCoveringGridLandCover_PERCENTAGE,minPixelValidFraction,                                   \n",
    "                                minPixelLandCoverFraction,maxPixelLAICV,tileName))\n",
    "print(tile1.getInfo())\n",
    "\n"
   ]
  }
 ],
 "metadata": {
  "kernelspec": {
   "display_name": "Python 3 (ipykernel)",
   "language": "python",
   "name": "python3"
  },
  "language_info": {
   "codemirror_mode": {
    "name": "ipython",
    "version": 3
   },
   "file_extension": ".py",
   "mimetype": "text/x-python",
   "name": "python",
   "nbconvert_exporter": "python",
   "pygments_lexer": "ipython3",
   "version": "3.9.12"
  }
 },
 "nbformat": 4,
 "nbformat_minor": 5
}
