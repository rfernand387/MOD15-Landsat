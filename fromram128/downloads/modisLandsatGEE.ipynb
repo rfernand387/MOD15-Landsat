{
 "cells": [
  {
   "cell_type": "markdown",
   "id": "459749e3-6c69-437d-964f-3674eb91fac6",
   "metadata": {},
   "source": [
    "\n",
    "This notebook provided an end to end example of calibrating and applying a random forest to estimate LAI from Landsat 8 OLI using an approximation of the MODIS MCD15 algorithm.\n",
    "The calibration is based on a limited sample size to make it fast for this demo.\n"
   ]
  },
  {
   "cell_type": "markdown",
   "id": "ea1d7f36-2b64-4cee-a90e-894e76dfb29c",
   "metadata": {},
   "source": [
    "The notebook relies on sklearn to calibrate the random forest, geemap to format and upload this into Google Earth Engine, and ee to access the Earth Engine API to process imagery.\n"
   ]
  },
  {
   "cell_type": "code",
   "execution_count": 316,
   "id": "a9d83cc4-f130-40ae-94af-ea2d4f1e8545",
   "metadata": {},
   "outputs": [],
   "source": [
    "import ee\n",
    "import geemap\n",
    "from geemap import ml\n",
    "import numpy as np\n",
    "import pandas as pd\n",
    "import pickle\n",
    "import matplotlib.pyplot as plt\n",
    "from sklearn.ensemble import RandomForestRegressor\n"
   ]
  },
  {
   "cell_type": "markdown",
   "id": "f61ad956-4ee3-4c07-a840-362a7ab9a753",
   "metadata": {},
   "source": [
    "Before you begin you need to save the calibration data files on a local drive here\n",
    "\n",
    "https://drive.google.com/drive/folders/1r4lXElk6yht6rez1K7_XAW50Oj38zZ-6?usp=sharing\n",
    "\n",
    "and update the file path  in box below.  "
   ]
  },
  {
   "cell_type": "code",
   "execution_count": 320,
   "id": "e1399634-9a30-4052-9212-6b999adbb3eb",
   "metadata": {},
   "outputs": [],
   "source": [
    "bucketName = '/home/richard_fernandes/modislandsat/Calibrationv5/NorthAmerica/'\n",
    "fileSuffix = 'calv7'"
   ]
  },
  {
   "cell_type": "markdown",
   "id": "8ce454ac-6fef-4008-8f97-cdbf158a710c",
   "metadata": {},
   "source": [
    "You also have to provide a path to a GEE directory where you have write permissions and a file root name for each of the output classifiers.  They will get a suffix for each MCD15 biome number."
   ]
  },
  {
   "cell_type": "code",
   "execution_count": 321,
   "id": "e0507bd6-af79-4929-a0f1-6a2e21da3549",
   "metadata": {},
   "outputs": [],
   "source": [
    "geeFilePath = 'projects/ccmeo-ag-000008/assets/modisLandsat' \n",
    "geeClassifierRootName = '/treesModisLandsatNAv5'\n"
   ]
  },
  {
   "cell_type": "markdown",
   "id": "7fc1bf42-c16f-497d-bf32-5b2883d48f53",
   "metadata": {},
   "source": [
    "You will need a GEE account to save uploaded random forest classifiers and to apply them."
   ]
  },
  {
   "cell_type": "code",
   "execution_count": 200,
   "id": "5cce7247-25ec-436c-8228-1d3a99e9a212",
   "metadata": {},
   "outputs": [
    {
     "data": {
      "text/html": [
       "<p>To authorize access needed by Earth Engine, open the following\n",
       "        URL in a web browser and follow the instructions:</p>\n",
       "        <p><a href=https://code.earthengine.google.com/client-auth?scopes=https%3A//www.googleapis.com/auth/earthengine%20https%3A//www.googleapis.com/auth/devstorage.full_control&request_id=AED_A4dywBzzVd6Apc68Dy2YnyCXxXlYo72qv5fdfL4&tc=-hK1RcLT6cFmGNOxfG5yjeGZS35kP48sJVKcatAr_D4&cc=ZP8k5Kc9PDlXjqXj9tuPDnACB5ALz2WynblbaOr8eFM>https://code.earthengine.google.com/client-auth?scopes=https%3A//www.googleapis.com/auth/earthengine%20https%3A//www.googleapis.com/auth/devstorage.full_control&request_id=AED_A4dywBzzVd6Apc68Dy2YnyCXxXlYo72qv5fdfL4&tc=-hK1RcLT6cFmGNOxfG5yjeGZS35kP48sJVKcatAr_D4&cc=ZP8k5Kc9PDlXjqXj9tuPDnACB5ALz2WynblbaOr8eFM</a></p>\n",
       "        <p>The authorization workflow will generate a code, which you should paste in the box below.</p>\n",
       "        "
      ],
      "text/plain": [
       "<IPython.core.display.HTML object>"
      ]
     },
     "metadata": {},
     "output_type": "display_data"
    },
    {
     "name": "stdin",
     "output_type": "stream",
     "text": [
      "Enter verification code:  4/1ARtbsJrCXRTAGkkBHWcd5EjnfREVuBDMGpDrkv1tfsjERJod9TRLvipYUo0\n"
     ]
    },
    {
     "name": "stdout",
     "output_type": "stream",
     "text": [
      "\n",
      "Successfully saved authorization token.\n"
     ]
    }
   ],
   "source": [
    "ee.Authenticate()"
   ]
  },
  {
   "cell_type": "code",
   "execution_count": 201,
   "id": "b445c72b-f322-406c-af72-48a72bbb86f8",
   "metadata": {},
   "outputs": [],
   "source": [
    "ee.Initialize() "
   ]
  },
  {
   "cell_type": "markdown",
   "id": "31040133-a939-482e-9e70-0eda2c4cd446",
   "metadata": {},
   "source": [
    "These are functions for preparing the calibration dataset.  They are specific to MCD15 and Landsat 8 data sampled by CCRS algorithms."
   ]
  },
  {
   "cell_type": "code",
   "execution_count": 317,
   "id": "2e91eb30-ceec-4c4a-a396-ff6914cbb7f8",
   "metadata": {},
   "outputs": [],
   "source": [
    "# function to parse a file of samples generated from CCRS code to a forma for use in random forest calibration\n",
    "def parseSamples(bucketName,fileSuffix):\n",
    "\n",
    "    # specify sampled files for calibation\n",
    "    # rows in each file match\n",
    "    file_name = ['LUTinputLC0XB36', 'LUTinputLC0XB45','LUTinputMOD09' ,'LUTinputLC0XLat', \\\n",
    "                 'LUTinputLC0XLon','LUToutputLC0X','YearLC0X','MonthLC0X', \\\n",
    "                 'DayLC0X','PathLC0X','RowLC0X']\n",
    "    \n",
    "    # read files in to dictionary \n",
    "    dataset = {}\n",
    "    for name in file_name:\n",
    "        name_dataset = bucketName+name+fileSuffix\n",
    "        if ( 'gs:' not in bucketName ) :\n",
    "            with open(f'{name_dataset}', 'rb') as fp1:\n",
    "                objs = []\n",
    "                while 1:\n",
    "                    try:\n",
    "                        objs.append(pickle.load(fp1))\n",
    "                    except EOFError:\n",
    "                        break\n",
    "                dataset[name] = [item for sublist in objs for item in sublist]\n",
    "        else: \n",
    "                    dataset[name] = (pd.read_pickle(name_dataset))\n",
    "\n",
    "                \n",
    "    # parse the LUTs into Pandas tables\n",
    "    LUT_Lai = np.double(np.floor(np.mod(np.array(dataset['LUToutputLC0X']),1e2)/1e0))\n",
    "    LUT_LaiStdDev = np.double(np.floor(np.floor(np.mod(np.array(dataset['LUToutputLC0X']),1e4)/1e2)))\n",
    "    LUT_Fpar = np.double(np.floor(np.mod(np.array(dataset['LUToutputLC0X']),1e6))/1e4)\n",
    "    LUT_FparStdDev = np.double(np.floor(np.floor(np.mod(np.array(dataset['LUToutputLC0X']),1e8)/1e6)))\n",
    "    LUT_satFlag = np.uint64(np.floor(np.mod(np.array(dataset['LUToutputLC0X']),1e11))/1e8)\n",
    "    LUT_snowFlag = np.uint64(np.floor(np.floor(np.mod(np.array(dataset['LUToutputLC0X']),1e14)/1e11)))\n",
    "    LUT_LC_Type3 = np.uint64(np.floor(np.floor(np.mod(np.array(dataset['LUToutputLC0X']),1e16)/1e14)))\n",
    "    LUT_SR_B3 = np.double(np.floor(np.floor(np.mod(np.array(dataset['LUTinputLC0XB36']),1e3)/1)))\n",
    "    LUT_SR_B4 = np.double(np.floor(np.floor(np.mod(np.array(dataset['LUTinputLC0XB45']),1e3)/1)))\n",
    "    LUT_SR_B5 = np.double(np.floor(np.floor(np.mod(np.array(dataset['LUTinputLC0XB45']),1e6)/1e3)))\n",
    "    LUT_SR_B6 = np.double(np.floor(np.floor(np.mod(np.array(dataset['LUTinputLC0XB36']),1e6)/1e3)))\n",
    "    LUT_VIEW_ZENITH = np.double(np.floor(np.floor(np.mod(np.array(dataset['LUTinputLC0XB45']),1e8)/1e6)))\n",
    "    LUT_VIEW_AZIMUTH = np.double(np.floor(np.floor(np.mod(np.array(dataset['LUTinputLC0XB45']),1e11)/1e8)))\n",
    "    LUT_SUN_ELEVATION = np.double(np.floor(np.floor(np.mod(np.array(dataset['LUTinputLC0XB45']),1e13)/1e11)))\n",
    "    LUT_SUN_AZIMUTH = np.double(np.floor(np.floor(np.mod(np.array(dataset['LUTinputLC0XB45']),1e16)/1e13)))\n",
    "    LUT_MOD09_red = np.double(np.floor(np.floor(np.mod(np.array(dataset['LUTinputMOD09']),1e4)/1)))\n",
    "    LUT_MOD09_NIR = np.double(np.floor(np.floor(np.mod(np.array(dataset['LUTinputMOD09']),1e8)/1e4)))\n",
    "    LUT_MSUN_ZENITH = np.uint64(np.floor(np.floor(np.mod(np.array(dataset['LUTinputMOD09']),1e10)/1e8)))\n",
    "    LUT_MSUN_AZIMUTH = np.uint64(np.floor(np.floor(np.mod(np.array(dataset['LUTinputMOD09']),1e13)/1e10)))\n",
    "    LUT_MVIEW_ZENITH = np.uint64(np.floor(np.floor(np.mod(np.array(dataset['LUTinputMOD09']),1e15)/1e13)))\n",
    "    LUT_MVIEW_AZIMUTH = np.uint64(np.floor(np.floor(np.mod(np.array(dataset['LUTinputMOD09']),1e18)/1e15)))\n",
    "    \n",
    "    # make pandas frame of all coded inputs\n",
    "    return pd.DataFrame( {'year':dataset['YearLC0X'], 'month': dataset['MonthLC0X'], 'day': dataset['DayLC0X'], 'path':dataset['PathLC0X'], 'row':dataset['RowLC0X'],\\\n",
    "                          'Lat':dataset['LUTinputLC0XLat'], 'Lon':dataset['LUTinputLC0XLon'], 'input36': dataset['LUTinputLC0XB36'],'input45':dataset['LUTinputLC0XB45'], \\\n",
    "                           'inputMOD09': dataset['LUTinputMOD09'], 'redMODIS': LUT_MOD09_red,'NIRMODIS': LUT_MOD09_NIR,\\\n",
    "                          'SR_B3':LUT_SR_B3 * 10, 'SR_B4':LUT_SR_B4 * 10, 'SR_B5': LUT_SR_B5 * 10, 'SR_B6': LUT_SR_B6 * 10,   \\\n",
    "                          'VZA':LUT_VIEW_ZENITH, 'VAA': LUT_VIEW_AZIMUTH, 'SZA':LUT_SUN_ELEVATION, 'SAA': LUT_SUN_AZIMUTH, \\\n",
    "                          'M_sensor_zenith':LUT_MVIEW_ZENITH, 'M_sensor_azimuth': LUT_MVIEW_AZIMUTH, 'M_sun_zenith':LUT_MSUN_ZENITH, 'M_sun_azimuth': LUT_MSUN_AZIMUTH, \\\n",
    "                          'LC_type3': LUT_LC_Type3, 'output': dataset['LUToutputLC0X'],'LAI': LUT_Lai, 'stdLAI': LUT_LaiStdDev, 'FAPAR': LUT_Fpar, 'stdFAPAR': LUT_FparStdDev,\\\n",
    "                          'LUT_satFlag': LUT_satFlag,'LUT_snowFlag': LUT_snowFlag,'LC_type3': LUT_LC_Type3}) \\\n",
    "               .sort_values('input36')        \n"
   ]
  },
  {
   "cell_type": "code",
   "execution_count": 318,
   "id": "02bcfa5e-9f96-4f07-b5d8-27836283d43c",
   "metadata": {},
   "outputs": [],
   "source": [
    "# trims a dataframe of outliers of the conditional distribution of y given x using fixed sample sizesd\n",
    "def trimDFNumSample(df,x,y,percentiles,bins,numsamples):\n",
    "    # sort DF by the x value to speed up subsetting\n",
    "    dropList = []\n",
    "    sortList = df.sort_values(by=x).reset_index()\n",
    "    for i in bins:\n",
    "        # find location of value nearest to current bin\n",
    "        binIndex = sortList.loc[sortList[x]>i].index\n",
    "        if not binIndex.empty:\n",
    "            lenList = len(sortList)\n",
    "            Sample = sortList.iloc[(np.maximum((binIndex[0]-100),0)):(np.minimum((binIndex[0]+100), lenList))]\n",
    "            if not Sample.empty:\n",
    "                dropList.append(Sample.loc[Sample[y]<np.percentile(Sample[y],percentiles[0])]['index'].values.tolist()) \n",
    "                dropList.append(Sample.loc[Sample[y]>np.percentile(Sample[y],percentiles[1])]['index'].values.tolist())\n",
    "    return df.drop(sum(dropList,[]))"
   ]
  },
  {
   "cell_type": "code",
   "execution_count": 319,
   "id": "524e7fb3-0af3-4efd-9cb4-fb57c92c8e7c",
   "metadata": {},
   "outputs": [],
   "source": [
    "# trim calibration data based on comparing Landsat and MODIS equivalents\n",
    "# note we oversample the MODIS axis as we trim\n",
    "# this takes some time\n",
    "\n",
    "def trimDF(df):\n",
    "\n",
    "    # thresholds \n",
    "    df = df[(df.redMODIS < 100) & (df.SR_B4 > 0) & (df.SR_B3 > 0 ) & (df.SR_B5 > 0 )  & (df.SR_B6 > 0 )& (df.SR_B4 < np.quantile(df.SR_B4,0.99)) & (df.SR_B3 < np.quantile(df.SR_B3,0.99)) \\\n",
    "             & (df.SR_B5 < np.quantile(df.SR_B5,0.99)) & (df.SR_B6 < np.quantile(df.SR_B6,0.99)) & (df.VZA<20)]\n",
    " \n",
    "\n",
    "    # trim based on red\n",
    "    df = trimDFNumSample(df,'redMODIS','SR_B4',[10,90],np.arange(100,1000.0,10),10000)\n",
    "\n",
    "    #trim based on nir\n",
    "    df = trimDFNumSample(df,'NIRMODIS','SR_B5',[10,90],np.arange(100,1000.0,10),10000)\n",
    "  \n",
    "    return df"
   ]
  },
  {
   "cell_type": "markdown",
   "id": "d5672f40-e509-454f-bfd7-20fe28f114d8",
   "metadata": {},
   "source": [
    "Code blocks below show the sampled data locations and then calibrate random forests that are uploaded to your GEE accout."
   ]
  },
  {
   "cell_type": "code",
   "execution_count": 196,
   "id": "7298039c-e0bd-4483-8d54-31b6fdb5987e",
   "metadata": {
    "tags": []
   },
   "outputs": [
    {
     "data": {
      "image/png": "[encoded data removed]",
      "text/plain": [
       "<Figure size 1440x360 with 1 Axes>"
      ]
     },
     "metadata": {
      "needs_background": "light"
     },
     "output_type": "display_data"
    }
   ],
   "source": [
    "# read calibration data and display locations \n",
    "# does not seem to read entire file from Goolge, so now using local drive\n",
    "dfALL= trimDF(parseSamples(bucketName,fileSuffix))\n",
    "fig,ax = plt.subplots(1,1)\n",
    "fig.set_figheight(5)\n",
    "fig.set_figwidth(20)\n",
    "im=ax.hexbin(dfALL['Lon'],dfALL['Lat'], gridsize=(50,50), extent=(-180,0,0,90),bins='log')\n",
    "ax.set_xlabel('Lat',size = 12)\n",
    "ax.set_ylabel('Lon',size = 12)\n",
    "ax.set_title('Calibration Sample Density')\n",
    "plt.show()"
   ]
  },
  {
   "cell_type": "markdown",
   "id": "e0ccbe46-d649-41f7-b342-c97e3aa2ea19",
   "metadata": {},
   "source": [
    "This loop makes a random forest regression for each biome type using sklearn on local machine and then uploads as a feature collection to GEE.\n",
    "Check your GEE assets to make sure it is completed.\n",
    "\n",
    "You later have to cast the feature collection as a classifier to use it.  \n"
   ]
  },
  {
   "cell_type": "code",
   "execution_count": 301,
   "id": "282e829e-4f64-46a3-b62f-0e0c2489d618",
   "metadata": {},
   "outputs": [
    {
     "name": "stdout",
     "output_type": "stream",
     "text": [
      "4 70482\n",
      "2 59954\n",
      "1 177401\n",
      "7 17030\n",
      "10 306\n",
      "6 15529\n",
      "3 10663\n",
      "9 9168\n",
      "5 1054\n",
      "8 182\n"
     ]
    }
   ],
   "source": [
    "# calibrate and export random forests to GEE as feature collections\n",
    "# to parse these into classifiers see https://geemap.org/notebooks/46_local_rf_training/#convert-a-sklearn-classifier-object-to-a-list-of-strings\n",
    "# you can also export as local binary files and not feature collections, faster but then this is not as transparent as usig GEE objects\n",
    "\n",
    "# specify input features and random forestd response\n",
    "rawfeatures = ['SR_B3', 'SR_B4', 'SR_B5', 'SR_B6','SAA','SZA']\n",
    "response= ['LAI']\n",
    "forests = {}\n",
    "\n",
    "# loop through all biome types indxed using LC_type3\n",
    "for biome in dfALL['LC_type3'].unique():\n",
    "    \n",
    "    #select only calibration samples for current biome\n",
    "    df = dfALL.loc[dfALL['LC_type3']==biome]\n",
    "    print(biome,df.shape[0])\n",
    "    forests[str(biome)] = RandomForestRegressor(n_estimators=2,min_samples_leaf=10,bootstrap=True,random_state=0,verbose=0).fit(df[rawfeatures], np.array(df[response]).ravel())\n",
    "\n",
    "\n",
    "     # create a ee classifier to use with ee objects from the trees\n",
    "    trees = ml.rf_to_strings(estimator=forests[str(biome)], feature_names=rawfeatures,output_mode='REGRESSION') \n",
    "    \n",
    "    # kick off an export process so it will be saved to the ee asset\n",
    "    ml.export_trees_to_fc(trees, geeFilePath + geeClassifierRootName + str(biome))\n",
    "    \n"
   ]
  },
  {
   "cell_type": "code",
   "execution_count": null,
   "id": "74f1f317-7e18-4f11-b758-b7f2e35a9c09",
   "metadata": {},
   "outputs": [],
   "source": [
    "This code applies the random forest for biome type 4  to a Landsat 8 OLI image.  \n",
    "\n",
    "To do so it casts a selected  GEE classifier for that biome type and applies it to the Landsat 8 OLI surface reflectance image\n",
    "AFTER we have added the required geometry bands.\n",
    "\n",
    "In practice you need to add a biome type layer to the OLI image correspindig to LC_type3 number and then map this process over each LC_type3 using \n",
    "the appropriate classifier.\n"
   ]
  },
  {
   "cell_type": "code",
   "execution_count": null,
   "id": "b52e5674-1530-47e4-83e9-f49404fd3fb4",
   "metadata": {},
   "outputs": [],
   "source": [
    "#  add solar zenith and azimuth bands to a landsat 8 image \n",
    "def addL08Geometry(image) :\n",
    "    \n",
    "    geometryBands = ee.ImageCollection(\"LANDSAT/LC08/C02/T1_TOA\").filterMetadata('system:index','equals',image.get('system:index')) .first() \n",
    "    \n",
    "    return image.addBands(geometryBands.select(['SZA','SAA']))"
   ]
  },
  {
   "cell_type": "code",
   "execution_count": 305,
   "id": "68637398-c4af-46e2-adb7-eb9a97077762",
   "metadata": {},
   "outputs": [],
   "source": [
    "# read the exported tree feature collection\n",
    "classifier1  =  ml.fc_to_classifier(ee.FeatureCollection( geeFilePath  + geeClassifierRootName + 'Biome4'))\n",
    "classified = addL08Geometry(ee.ImageCollection(\"LANDSAT/LC08/C02/T1_L2\").first()).select(rawfeatures).classify(classifier1)\n",
    "print(classified.getInfo())"
   ]
  }
 ],
 "metadata": {
  "kernelspec": {
   "display_name": "Python 3 (ipykernel)",
   "language": "python",
   "name": "python3"
  },
  "language_info": {
   "codemirror_mode": {
    "name": "ipython",
    "version": 3
   },
   "file_extension": ".py",
   "mimetype": "text/x-python",
   "name": "python",
   "nbconvert_exporter": "python",
   "pygments_lexer": "ipython3",
   "version": "3.11.0"
  }
 },
 "nbformat": 4,
 "nbformat_minor": 5
}
