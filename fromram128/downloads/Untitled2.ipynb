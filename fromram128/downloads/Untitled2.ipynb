{
 "cells": [
  {
   "cell_type": "code",
   "execution_count": 4,
   "id": "7a87bf3f-efa3-4acc-be05-31bd743d366d",
   "metadata": {},
   "outputs": [
    {
     "name": "stdout",
     "output_type": "stream",
     "text": [
      "Collecting package metadata (current_repodata.json): done\n",
      "Solving environment: done\n",
      "\n",
      "## Package Plan ##\n",
      "\n",
      "  environment location: /home/richard_fernandes/anaconda3/envs/MODISLandsat\n",
      "\n",
      "  added / updated specs:\n",
      "    - scipy\n",
      "\n",
      "\n",
      "The following packages will be downloaded:\n",
      "\n",
      "    package                    |            build\n",
      "    ---------------------------|-----------------\n",
      "    ca-certificates-2022.10.11 |       h06a4308_0         124 KB\n",
      "    certifi-2020.6.20          |     pyhd3eb1b0_3         155 KB\n",
      "    openssl-1.1.1q             |       h7f8727e_0         2.5 MB\n",
      "    ------------------------------------------------------------\n",
      "                                           Total:         2.8 MB\n",
      "\n",
      "The following packages will be UPDATED:\n",
      "\n",
      "  ca-certificates    conda-forge::ca-certificates-2022.9.2~ --> pkgs/main::ca-certificates-2022.10.11-h06a4308_0 None\n",
      "\n",
      "The following packages will be SUPERSEDED by a higher-priority channel:\n",
      "\n",
      "  certifi            conda-forge::certifi-2022.9.24-pyhd8e~ --> pkgs/main::certifi-2020.6.20-pyhd3eb1b0_3 None\n",
      "  openssl            conda-forge::openssl-1.1.1q-h166bdaf_1 --> pkgs/main::openssl-1.1.1q-h7f8727e_0 None\n",
      "\n",
      "\n",
      "\n",
      "Downloading and Extracting Packages\n",
      "certifi-2020.6.20    | 155 KB    | ##################################### | 100% \n",
      "ca-certificates-2022 | 124 KB    | ##################################### | 100% \n",
      "openssl-1.1.1q       | 2.5 MB    | ##################################### | 100% \n",
      "Preparing transaction: done\n",
      "Verifying transaction: done\n",
      "Executing transaction: done\n",
      "Retrieving notices: ...working... done\n",
      "\n",
      "Note: you may need to restart the kernel to use updated packages.\n"
     ]
    }
   ],
   "source": [
    "conda install scipy"
   ]
  },
  {
   "cell_type": "code",
   "execution_count": 33,
   "id": "47f4b448-9146-4d14-a352-ac14ba5a3c1d",
   "metadata": {},
   "outputs": [],
   "source": [
    "import numpy as np\n",
    "import scipy\n",
    "from scipy.special import gamma\n",
    "import math\n",
    "import matplotlib.pyplot as plt\n"
   ]
  },
  {
   "cell_type": "code",
   "execution_count": 34,
   "id": "efffb788-60d9-44af-9c90-d670f8f5f826",
   "metadata": {},
   "outputs": [],
   "source": [
    "def meanDist(n,N,D):\n",
    "    return gamma(D/2+1)**(1/D)*gamma(n+1/D)*(1/N)**(1/D)/((math.pi**(0.5))*gamma(n))\n",
    "                                                    "
   ]
  },
  {
   "cell_type": "code",
   "execution_count": 73,
   "id": "5ae3ba5a-f280-4f9a-9492-b14b24e388a9",
   "metadata": {},
   "outputs": [],
   "source": [
    "meanDist1 = []\n",
    "meanDist6 = []\n",
    "maxDist1 = []\n",
    "maxDist6 = []\n",
    "rangeN = range(1,15,1)\n",
    "for N in rangeN:\n",
    "    meanDist1.append(meanDist(1,10**N,1))\n",
    "    meanDist6.append(meanDist(1,10**N,6))\n",
    "    maxDist1.append(np.log(10**N)/((10**N)**(1/1)))\n",
    "    maxDist6.append(np.log(10**N)/((10**N)**(1/6)))"
   ]
  },
  {
   "cell_type": "code",
   "execution_count": 75,
   "id": "b8800bf9-bd26-4365-a068-d9ad2d5b9622",
   "metadata": {},
   "outputs": [
    {
     "data": {
      "image/png": "[encoded data removed]",
      "text/plain": [
       "<Figure size 640x480 with 1 Axes>"
      ]
     },
     "metadata": {},
     "output_type": "display_data"
    }
   ],
   "source": [
    "fig, ax = plt.subplots(1,1)\n",
    "# ax.scatter(rangeN,np.log10(maxDist1))\n",
    "ax.scatter(rangeN,np.log10(maxDist6))\n",
    "ax.set_xlabel('log10(# samples)')\n",
    "ax.set_ylabel('log10(d)')\n",
    "plt.show()"
   ]
  },
  {
   "cell_type": "code",
   "execution_count": null,
   "id": "0dd713ce-40bb-40bf-ac92-353c098369df",
   "metadata": {},
   "outputs": [],
   "source": []
  },
  {
   "cell_type": "code",
   "execution_count": null,
   "id": "5250fbda-5b6c-4735-a8ae-f0201abda6d6",
   "metadata": {},
   "outputs": [],
   "source": []
  }
 ],
 "metadata": {
  "kernelspec": {
   "display_name": "Python 3 (ipykernel)",
   "language": "python",
   "name": "python3"
  },
  "language_info": {
   "codemirror_mode": {
    "name": "ipython",
    "version": 3
   },
   "file_extension": ".py",
   "mimetype": "text/x-python",
   "name": "python",
   "nbconvert_exporter": "python",
   "pygments_lexer": "ipython3",
   "version": "3.11.0"
  }
 },
 "nbformat": 4,
 "nbformat_minor": 5
}
