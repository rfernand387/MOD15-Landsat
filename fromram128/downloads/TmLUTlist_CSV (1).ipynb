{
 "cells": [
  {
   "cell_type": "code",
   "execution_count": 55,
   "id": "3987d886",
   "metadata": {
    "id": "3987d886"
   },
   "outputs": [
    {
     "name": "stdout",
     "output_type": "stream",
     "text": [
      "Collecting package metadata (current_repodata.json): done\n",
      "Solving environment: done\n",
      "\n",
      "\n",
      "==> WARNING: A newer version of conda exists. <==\n",
      "  current version: 4.10.3\n",
      "  latest version: 4.11.0\n",
      "\n",
      "Please update conda by running\n",
      "\n",
      "    $ conda update -n base -c defaults conda\n",
      "\n",
      "\n",
      "\n",
      "## Package Plan ##\n",
      "\n",
      "  environment location: /home/richard_fernandes/anaconda3/envs/landsatModis\n",
      "\n",
      "  added / updated specs:\n",
      "    - matplotlib\n",
      "\n",
      "\n",
      "The following packages will be downloaded:\n",
      "\n",
      "    package                    |            build\n",
      "    ---------------------------|-----------------\n",
      "    brotli-1.0.9               |       h7f98852_5          17 KB  conda-forge\n",
      "    brotli-bin-1.0.9           |       h7f98852_5          19 KB  conda-forge\n",
      "    cycler-0.11.0              |     pyhd8ed1ab_0          10 KB  conda-forge\n",
      "    dbus-1.13.6                |       he372182_0         602 KB  conda-forge\n",
      "    expat-2.2.10               |       h9c3ff4c_0         164 KB  conda-forge\n",
      "    freetype-2.11.0            |       h70c0345_0         618 KB\n",
      "    glib-2.69.1                |       h4ff587b_1         1.7 MB\n",
      "    gst-plugins-base-1.14.0    |       hbbd80ab_1         4.8 MB\n",
      "    icu-58.2                   |    hf484d3e_1000        22.6 MB  conda-forge\n",
      "    kiwisolver-1.3.2           |   py39h295c915_0          80 KB\n",
      "    lcms2-2.12                 |       hddcbb42_0         443 KB  conda-forge\n",
      "    libbrotlicommon-1.0.9      |       h7f98852_5          65 KB  conda-forge\n",
      "    libbrotlidec-1.0.9         |       h7f98852_5          33 KB  conda-forge\n",
      "    libbrotlienc-1.0.9         |       h7f98852_5         286 KB  conda-forge\n",
      "    libpng-1.6.37              |       h21135ba_2         306 KB  conda-forge\n",
      "    libwebp-base-1.2.2         |       h7f8727e_0         440 KB\n",
      "    libxcb-1.13                |    h7f98852_1003         395 KB  conda-forge\n",
      "    lz4-c-1.9.3                |       h9c3ff4c_1         179 KB  conda-forge\n",
      "    matplotlib-3.5.1           |   py39hf3d152e_0           6 KB  conda-forge\n",
      "    matplotlib-base-3.5.1      |   py39ha18d171_0         5.6 MB\n",
      "    munkres-1.1.4              |     pyh9f0ad1d_0          12 KB  conda-forge\n",
      "    olefile-0.46               |     pyh9f0ad1d_1          32 KB  conda-forge\n",
      "    pcre-8.45                  |       h9c3ff4c_0         253 KB  conda-forge\n",
      "    pillow-7.2.0               |   py39h6f3857e_2         678 KB  conda-forge\n",
      "    pthread-stubs-0.4          |    h36c2ea0_1001           5 KB  conda-forge\n",
      "    sip-4.19.13                |   py39h295c915_0         278 KB\n",
      "    xorg-libxau-1.0.9          |       h7f98852_0          13 KB  conda-forge\n",
      "    xorg-libxdmcp-1.1.3        |       h7f98852_0          19 KB  conda-forge\n",
      "    zstd-1.4.9                 |       ha95c52a_0         431 KB  conda-forge\n",
      "    ------------------------------------------------------------\n",
      "                                           Total:        40.0 MB\n",
      "\n",
      "The following NEW packages will be INSTALLED:\n",
      "\n",
      "  brotli             conda-forge/linux-64::brotli-1.0.9-h7f98852_5\n",
      "  brotli-bin         conda-forge/linux-64::brotli-bin-1.0.9-h7f98852_5\n",
      "  cycler             conda-forge/noarch::cycler-0.11.0-pyhd8ed1ab_0\n",
      "  dbus               conda-forge/linux-64::dbus-1.13.6-he372182_0\n",
      "  expat              conda-forge/linux-64::expat-2.2.10-h9c3ff4c_0\n",
      "  fontconfig         pkgs/main/linux-64::fontconfig-2.13.1-h6c09931_0\n",
      "  fonttools          pkgs/main/noarch::fonttools-4.25.0-pyhd3eb1b0_0\n",
      "  freetype           pkgs/main/linux-64::freetype-2.11.0-h70c0345_0\n",
      "  glib               pkgs/main/linux-64::glib-2.69.1-h4ff587b_1\n",
      "  gst-plugins-base   pkgs/main/linux-64::gst-plugins-base-1.14.0-hbbd80ab_1\n",
      "  gstreamer          pkgs/main/linux-64::gstreamer-1.14.0-h28cd5cc_2\n",
      "  icu                conda-forge/linux-64::icu-58.2-hf484d3e_1000\n",
      "  jpeg               pkgs/main/linux-64::jpeg-9d-h7f8727e_0\n",
      "  kiwisolver         pkgs/main/linux-64::kiwisolver-1.3.2-py39h295c915_0\n",
      "  lcms2              conda-forge/linux-64::lcms2-2.12-hddcbb42_0\n",
      "  libbrotlicommon    conda-forge/linux-64::libbrotlicommon-1.0.9-h7f98852_5\n",
      "  libbrotlidec       conda-forge/linux-64::libbrotlidec-1.0.9-h7f98852_5\n",
      "  libbrotlienc       conda-forge/linux-64::libbrotlienc-1.0.9-h7f98852_5\n",
      "  libpng             conda-forge/linux-64::libpng-1.6.37-h21135ba_2\n",
      "  libtiff            pkgs/main/linux-64::libtiff-4.2.0-h85742a9_0\n",
      "  libuuid            pkgs/main/linux-64::libuuid-1.0.3-h7f8727e_2\n",
      "  libwebp-base       pkgs/main/linux-64::libwebp-base-1.2.2-h7f8727e_0\n",
      "  libxcb             conda-forge/linux-64::libxcb-1.13-h7f98852_1003\n",
      "  libxml2            pkgs/main/linux-64::libxml2-2.9.12-h03d6c58_0\n",
      "  lz4-c              conda-forge/linux-64::lz4-c-1.9.3-h9c3ff4c_1\n",
      "  matplotlib         conda-forge/linux-64::matplotlib-3.5.1-py39hf3d152e_0\n",
      "  matplotlib-base    pkgs/main/linux-64::matplotlib-base-3.5.1-py39ha18d171_0\n",
      "  munkres            conda-forge/noarch::munkres-1.1.4-pyh9f0ad1d_0\n",
      "  olefile            conda-forge/noarch::olefile-0.46-pyh9f0ad1d_1\n",
      "  pcre               conda-forge/linux-64::pcre-8.45-h9c3ff4c_0\n",
      "  pillow             conda-forge/linux-64::pillow-7.2.0-py39h6f3857e_2\n",
      "  pthread-stubs      conda-forge/linux-64::pthread-stubs-0.4-h36c2ea0_1001\n",
      "  pyqt               pkgs/main/linux-64::pyqt-5.9.2-py39h2531618_6\n",
      "  qt                 pkgs/main/linux-64::qt-5.9.7-h5867ecd_1\n",
      "  sip                pkgs/main/linux-64::sip-4.19.13-py39h295c915_0\n",
      "  xorg-libxau        conda-forge/linux-64::xorg-libxau-1.0.9-h7f98852_0\n",
      "  xorg-libxdmcp      conda-forge/linux-64::xorg-libxdmcp-1.1.3-h7f98852_0\n",
      "  zstd               conda-forge/linux-64::zstd-1.4.9-ha95c52a_0\n",
      "\n",
      "\n",
      "\n",
      "Downloading and Extracting Packages\n",
      "dbus-1.13.6          | 602 KB    | ##################################### | 100% \n",
      "sip-4.19.13          | 278 KB    | ##################################### | 100% \n",
      "libwebp-base-1.2.2   | 440 KB    | ##################################### | 100% \n",
      "libbrotlienc-1.0.9   | 286 KB    | ##################################### | 100% \n",
      "matplotlib-3.5.1     | 6 KB      | ##################################### | 100% \n",
      "gst-plugins-base-1.1 | 4.8 MB    | ##################################### | 100% \n",
      "munkres-1.1.4        | 12 KB     | ##################################### | 100% \n",
      "lz4-c-1.9.3          | 179 KB    | ##################################### | 100% \n",
      "expat-2.2.10         | 164 KB    | ##################################### | 100% \n",
      "freetype-2.11.0      | 618 KB    | ##################################### | 100% \n",
      "brotli-1.0.9         | 17 KB     | ##################################### | 100% \n",
      "libbrotlicommon-1.0. | 65 KB     | ##################################### | 100% \n",
      "libbrotlidec-1.0.9   | 33 KB     | ##################################### | 100% \n",
      "olefile-0.46         | 32 KB     | ##################################### | 100% \n",
      "xorg-libxdmcp-1.1.3  | 19 KB     | ##################################### | 100% \n",
      "zstd-1.4.9           | 431 KB    | ##################################### | 100% \n",
      "glib-2.69.1          | 1.7 MB    | ##################################### | 100% \n",
      "icu-58.2             | 22.6 MB   | ##################################### | 100% \n",
      "pcre-8.45            | 253 KB    | ##################################### | 100% \n",
      "brotli-bin-1.0.9     | 19 KB     | ##################################### | 100% \n",
      "kiwisolver-1.3.2     | 80 KB     | ##################################### | 100% \n",
      "pthread-stubs-0.4    | 5 KB      | ##################################### | 100% \n",
      "lcms2-2.12           | 443 KB    | ##################################### | 100% \n",
      "pillow-7.2.0         | 678 KB    | ##################################### | 100% \n",
      "matplotlib-base-3.5. | 5.6 MB    | ##################################### | 100% \n",
      "xorg-libxau-1.0.9    | 13 KB     | ##################################### | 100% \n",
      "libpng-1.6.37        | 306 KB    | ##################################### | 100% \n",
      "libxcb-1.13          | 395 KB    | ##################################### | 100% \n",
      "cycler-0.11.0        | 10 KB     | ##################################### | 100% \n",
      "Preparing transaction: done\n",
      "Verifying transaction: done\n",
      "Executing transaction: done\n",
      "\n",
      "Note: you may need to restart the kernel to use updated packages.\n"
     ]
    }
   ],
   "source": [
    "conda install -c conda-forge matplotlib"
   ]
  },
  {
   "cell_type": "code",
   "execution_count": 81,
   "id": "c3d798b1-235d-4e71-8edc-d86880690999",
   "metadata": {},
   "outputs": [],
   "source": [
    "import numpy as np\n",
    "import pandas as pd\n",
    "import pickle\n",
    "import matplotlib"
   ]
  },
  {
   "cell_type": "code",
   "execution_count": 126,
   "id": "bf18b3ee",
   "metadata": {
    "id": "bf18b3ee",
    "outputId": "555b8e45-da73-4455-8c35-c1bdbb0b730b"
   },
   "outputs": [
    {
     "name": "stdout",
     "output_type": "stream",
     "text": [
      "1530265\n",
      "1530265\n",
      "1530265\n",
      "1530265\n",
      "1530265\n",
      "1530265\n",
      "1530265\n",
      "1530265\n",
      "1530265\n",
      "1530265\n",
      "1530265\n"
     ]
    }
   ],
   "source": [
    "file_name = ['LUTinputLC0XB36cal', 'LUTinputLC0XB45cal','LUTinputMOD09cal' ,'LUTinputLC0XLatcal', \\\n",
    "             'LUTinputLC0XLoncal','LUToutputLC0Xcal','YearLC0Xcal','MonthLC0Xcal', \\\n",
    "             'DayLC0Xcal','RowLC0Xcal','RowLC0Xcal']\n",
    "\n",
    "dataset = []\n",
    "DataList = []\n",
    "count = 0\n",
    "\n",
    "for name in file_name:\n",
    "    dataset.append(f'/home/richard_fernandes/{name}')\n",
    "\n",
    "for name_dataset in dataset:\n",
    "    with open(f'{name_dataset}', 'rb') as fp1:\n",
    "        objs = []\n",
    "        while 1:\n",
    "            try:\n",
    "                objs.append(pickle.load(fp1))\n",
    "            except EOFError:\n",
    "                break\n",
    "        DataList = [item for sublist in objs for item in sublist]\n",
    "        \n",
    "    if count == 0:\n",
    "        LUTB36_list = DataList\n",
    "    elif count == 1:\n",
    "        LUTB45_list = DataList\n",
    "    elif count == 2:\n",
    "        LUTMOD09_list = DataList\n",
    "    elif count == 3:\n",
    "        LUTLat = DataList\n",
    "    elif count == 4:\n",
    "        LUTLon = DataList\n",
    "    elif count == 5:\n",
    "        LUToutput_list = DataList\n",
    "    elif count == 6:\n",
    "        LUTyear = DataList\n",
    "    elif count == 7:\n",
    "        LUTmonth = DataList\n",
    "    elif count == 8:\n",
    "        LUTday = DataList\n",
    "    elif count == 9:\n",
    "        LUTpath = DataList\n",
    "    elif count == 10:\n",
    "        LUTrow = DataList\n",
    "    \n",
    "    count = count + 1\n",
    "        \n",
    "print(len(LUTB36_list))\n",
    "print(len(LUTB45_list))\n",
    "print(len(LUTMOD09_list))\n",
    "print(len(LUTLat))\n",
    "print(len(LUTLon))\n",
    "print(len(LUToutput_list))\n",
    "print(len(LUTyear))\n",
    "print(len(LUTmonth))\n",
    "print(len(LUTday))\n",
    "print(len(LUTpath))\n",
    "print(len(LUTrow))\n"
   ]
  },
  {
   "cell_type": "code",
   "execution_count": 128,
   "id": "9d2f5e2b",
   "metadata": {
    "id": "9d2f5e2b"
   },
   "outputs": [],
   "source": [
    "# parse the LUTs into Pandas tables\n",
    "LUT_Lai = np.uint64(np.floor(np.mod(LUToutput_list,1e2)/1e0))\n",
    "LUT_LaiStdDev = np.uint64(np.floor(np.floor(np.mod(LUToutput_list,1e4)/1e2)))\n",
    "LUT_Fpar = np.uint64(np.floor(np.mod(LUToutput_list,1e6))/1e4)\n",
    "LUT_FparStdDev = np.uint64(np.floor(np.floor(np.mod(LUToutput_list,1e8)/1e6)))\n",
    "LUT_satFlag = np.uint64(np.floor(np.mod(LUToutput_list,1e11))/1e8)\n",
    "LUT_snowFlag = np.uint64(np.floor(np.floor(np.mod(LUToutput_list,1e14)/1e11)))\n",
    "LUT_LC_Type3 = np.uint64(np.floor(np.floor(np.mod(LUToutput_list,1e16)/1e14)))\n",
    "\n",
    "\n",
    "\n",
    "LUT_SR_B3 = np.uint64(np.floor(np.floor(np.mod(LUTB36_list,1e3)/1)))\n",
    "LUT_SR_B4 = np.uint64(np.floor(np.floor(np.mod(LUTB45_list,1e3)/1)))\n",
    "\n",
    "LUT_SR_B5 = np.uint64(np.floor(np.floor(np.mod(LUTB45_list,1e6)/1e3)))\n",
    "LUT_SR_B6 = np.uint64(np.floor(np.floor(np.mod(LUTB36_list,1e6)/1e3)))\n",
    "LUT_VIEW_ZENITH = np.uint64(np.floor(np.floor(np.mod(LUTB45_list,1e8)/1e6)))\n",
    "LUT_VIEW_AZIMUTH = np.uint64(np.floor(np.floor(np.mod(LUTB45_list,1e11)/1e8)))\n",
    "LUT_SUN_ELEVATION = np.uint64(np.floor(np.floor(np.mod(LUTB45_list,1e13)/1e11)))\n",
    "LUT_SUN_AZIMUTH = np.uint64(np.floor(np.floor(np.mod(LUTB45_list,1e16)/1e13)))\n",
    "\n",
    "LUT_MOD09_RED = np.uint64(np.floor(np.floor(np.mod(LUTMOD09_list,1e4)/1)))\n",
    "LUT_MOD09_NIR = np.uint64(np.floor(np.floor(np.mod(LUTMOD09_list,1e8)/14)))\n",
    "\n"
   ]
  },
  {
   "cell_type": "code",
   "execution_count": 129,
   "id": "474a8c9a",
   "metadata": {
    "id": "474a8c9a"
   },
   "outputs": [],
   "source": [
    "unsatDF =  pd.DataFrame( {'year':LUTyear, 'month': LUTmonth, 'day': LUTday, 'path':LUTpath, 'row':LUTrow,\\\n",
    "                          'Lat':LUTLat, 'Lon':LUTLon, 'input36': LUTB36_list,'input45':LUTB45_list, 'inputMOD09': LUTMOD09_list , 'redMODIS': LUT_MOD09_RED,'NIRMODIS': LUT_MOD09_NIR,\\\n",
    "                          'green':LUT_SR_B3, 'red':LUT_SR_B4, 'NIR': LUT_SR_B5, 'SWIR1':LUT_SR_B6,   \\\n",
    "                          'SensorZenith':LUT_VIEW_ZENITH, 'SensorAzimuth': LUT_VIEW_AZIMUTH, 'SolarZenith':LUT_SUN_ELEVATION, 'SolarAzimuth': LUT_SUN_AZIMUTH, \\\n",
    "                          'LC_type3': LUT_LC_Type3, 'output': LUToutput_list,'LAI': LUT_Lai, 'stdLAI': LUT_LaiStdDev, 'FAPAR': LUT_Fpar, 'stdFAPAR': LUT_FparStdDev,\\\n",
    "                          'LUT_satFlag': LUT_satFlag,'LUT_snowFlag': LUT_snowFlag,'LC_type3': LUT_LC_Type3}, index=LUTB36_list) \\\n",
    "                .astype(int) \\\n",
    "                .sort_values('input36')"
   ]
  },
  {
   "cell_type": "code",
   "execution_count": 133,
   "id": "bf2ec13f-0d8a-468a-b6e1-8d65423d2515",
   "metadata": {},
   "outputs": [],
   "source": [
    "unsatDF['MODISSR'] = unsatDF['NIRMODIS'].divide(unsatDF['redMODIS'])"
   ]
  },
  {
   "cell_type": "code",
   "execution_count": 134,
   "id": "63e4f3b8",
   "metadata": {
    "id": "63e4f3b8"
   },
   "outputs": [
    {
     "data": {
      "text/plain": [
       "<AxesSubplot:xlabel='MODISSR', ylabel='LAI'>"
      ]
     },
     "execution_count": 134,
     "metadata": {},
     "output_type": "execute_result"
    },
    {
     "data": {
      "image/png": "[encoded data removed]",
      "text/plain": [
       "<Figure size 432x288 with 1 Axes>"
      ]
     },
     "metadata": {
      "needs_background": "light"
     },
     "output_type": "display_data"
    }
   ],
   "source": [
    "unsatDF.plot.scatter('MODISSR','LAI')"
   ]
  },
  {
   "cell_type": "code",
   "execution_count": null,
   "id": "6232bf72-392d-4e59-9791-2d50c8f68d4a",
   "metadata": {},
   "outputs": [],
   "source": []
  }
 ],
 "metadata": {
  "colab": {
   "name": "TmLUTlist_CSV.ipynb",
   "provenance": []
  },
  "kernelspec": {
   "display_name": "Python 3 (ipykernel)",
   "language": "python",
   "name": "python3"
  },
  "language_info": {
   "codemirror_mode": {
    "name": "ipython",
    "version": 3
   },
   "file_extension": ".py",
   "mimetype": "text/x-python",
   "name": "python",
   "nbconvert_exporter": "python",
   "pygments_lexer": "ipython3",
   "version": "3.11.0"
  }
 },
 "nbformat": 4,
 "nbformat_minor": 5
}
