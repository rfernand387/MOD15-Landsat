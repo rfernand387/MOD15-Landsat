{
 "cells": [
  {
   "cell_type": "code",
   "execution_count": 24,
   "id": "4d1b5756-267d-4e9c-b2a9-cce830d792ef",
   "metadata": {},
   "outputs": [
    {
     "name": "stdout",
     "output_type": "stream",
     "text": [
      "1536419\n"
     ]
    }
   ],
   "source": [
    "# sample code to extract the saved data as a single list\n",
    "# you can make a data frame of all lists to export them together as a csv file\n",
    "import pickle\n",
    "with open('/home/richard_fernandes/unsatLUTinputLC0X', 'rb') as fp1:\n",
    "    objs = []\n",
    "    while 1:\n",
    "        try:\n",
    "            objs.append(pickle.load(fp1))\n",
    "        except EOFError:\n",
    "            break\n",
    "finalList = [item for sublist in objs for item in sublist]\n",
    "print(len(finalList))"
   ]
  },
  {
   "cell_type": "code",
   "execution_count": null,
   "id": "611a714a-569a-4d16-b50d-51c10e788da4",
   "metadata": {},
   "outputs": [],
   "source": []
  }
 ],
 "metadata": {
  "kernelspec": {
   "display_name": "Python 3",
   "language": "python",
   "name": "python3"
  },
  "language_info": {
   "codemirror_mode": {
    "name": "ipython",
    "version": 3
   },
   "file_extension": ".py",
   "mimetype": "text/x-python",
   "name": "python",
   "nbconvert_exporter": "python",
   "pygments_lexer": "ipython3",
   "version": "3.9.0"
  }
 },
 "nbformat": 4,
 "nbformat_minor": 5
}
