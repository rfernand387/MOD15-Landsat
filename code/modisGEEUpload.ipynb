{
 "cells": [
  {
   "cell_type": "code",
   "execution_count": 1,
   "id": "bf743acf-10ff-4248-a1c0-49164f219897",
   "metadata": {},
   "outputs": [],
   "source": [
    "# convert mod09 input samples and mod15 output samples that are coded and in pickel files\n",
    "# into csv files for uploading into GEE as feature collections\n",
    "# and then uploads to GEE"
   ]
  },
  {
   "cell_type": "code",
   "execution_count": 2,
   "id": "8ccc1530-44de-4d63-a1b6-fb77ffa58763",
   "metadata": {},
   "outputs": [],
   "source": [
    "import ee\n",
    "import numpy as np\n",
    "import pandas as pd\n",
    "import pickle"
   ]
  },
  {
   "cell_type": "code",
   "execution_count": 3,
   "id": "4ac3b5c6-676f-4079-9008-5779948b8667",
   "metadata": {},
   "outputs": [
    {
     "data": {
      "text/html": [
       "<p>To authorize access needed by Earth Engine, open the following\n",
       "        URL in a web browser and follow the instructions:</p>\n",
       "        <p><a href=https://accounts.google.com/o/oauth2/auth?client_id=517222506229-vsmmajv00ul0bs7p89v5m89qs8eb9359.apps.googleusercontent.com&scope=https%3A%2F%2Fwww.googleapis.com%2Fauth%2Fearthengine+https%3A%2F%2Fwww.googleapis.com%2Fauth%2Fdevstorage.full_control&redirect_uri=urn%3Aietf%3Awg%3Aoauth%3A2.0%3Aoob&response_type=code&code_challenge=NMI6osA2iBZY-1suRLe5-Bny8rH3tLi69O-_lQoDaDs&code_challenge_method=S256>https://accounts.google.com/o/oauth2/auth?client_id=517222506229-vsmmajv00ul0bs7p89v5m89qs8eb9359.apps.googleusercontent.com&scope=https%3A%2F%2Fwww.googleapis.com%2Fauth%2Fearthengine+https%3A%2F%2Fwww.googleapis.com%2Fauth%2Fdevstorage.full_control&redirect_uri=urn%3Aietf%3Awg%3Aoauth%3A2.0%3Aoob&response_type=code&code_challenge=NMI6osA2iBZY-1suRLe5-Bny8rH3tLi69O-_lQoDaDs&code_challenge_method=S256</a></p>\n",
       "        <p>The authorization workflow will generate a code, which you\n",
       "        should paste in the box below</p>\n",
       "        "
      ],
      "text/plain": [
       "<IPython.core.display.HTML object>"
      ]
     },
     "metadata": {},
     "output_type": "display_data"
    },
    {
     "name": "stdin",
     "output_type": "stream",
     "text": [
      "Enter verification code:  4/1AX4XfWh0uT-aGvWZbTKPfmwh8S24bINvagzvZ94WjsR341auAW_Zmjx36SY\n"
     ]
    },
    {
     "name": "stdout",
     "output_type": "stream",
     "text": [
      "\n",
      "Successfully saved authorization token.\n"
     ]
    }
   ],
   "source": [
    "ee.Authenticate()"
   ]
  },
  {
   "cell_type": "code",
   "execution_count": 4,
   "id": "1413fbd6-7f6e-4436-baf3-ee5513b165bc",
   "metadata": {},
   "outputs": [],
   "source": [
    "ee.Initialize()"
   ]
  },
  {
   "cell_type": "code",
   "execution_count": 110,
   "id": "24d5eab2-576f-45ad-bb32-aba81338996e",
   "metadata": {},
   "outputs": [],
   "source": [
    "def uploadPickleGEE(bucketName,fileNameInput,fileNameOutput,colNames,assetName,projectName):\n",
    "    (pd.DataFrame(pd.read_pickle(bucketName+fileNameInput+'.pkl')).astype('Int64')).join(pd.DataFrame(pd.read_pickle(bucketName+fileNameOutput+'.pkl')).astype('Int64'),lsuffix='input',rsuffix='output').to_csv(bucketName+assetName+'.csv',index=False,header=colNames)\n",
    "    !earthengine upload table --asset_id={projectName}{assetName} {bucketName}{assetName}.csv    "
   ]
  },
  {
   "cell_type": "code",
   "execution_count": 111,
   "id": "cec66ff1-7877-498d-bc20-4f78de78fdbf",
   "metadata": {},
   "outputs": [],
   "source": [
    "bucketName = 'gs://modis250m/GEE-sampling/validation/'\n",
    "projectName = 'projects/ccmeo-ag-000008/assets/google/'\n"
   ]
  },
  {
   "cell_type": "code",
   "execution_count": 112,
   "id": "40d1acc4-fa78-40dd-a065-62faba3aa7ac",
   "metadata": {},
   "outputs": [
    {
     "name": "stdout",
     "output_type": "stream",
     "text": [
      "Started upload task with ID: P6FKEESEKT53LZQZWCVJHFDJ\n"
     ]
    }
   ],
   "source": [
    "fileNameInput = 'unsatLUTinputMOD250_val_2020_2020'\n",
    "fileNameOutput = 'unsatLUToutputMOD250_val_2020_2020'\n",
    "assetName = 'unsatLUTMOD250_val_2020_2020'\n",
    "colNames = ['input','output']\n",
    "uploadPickleGEE(bucketName,fileNameInput,fileNameOutput,colNames,assetName,projectName)"
   ]
  },
  {
   "cell_type": "code",
   "execution_count": 113,
   "id": "8601f54b-4c06-4c11-88d1-90b06f4e50ba",
   "metadata": {},
   "outputs": [
    {
     "name": "stdout",
     "output_type": "stream",
     "text": [
      "Started upload task with ID: NGBKLNCU2UONIF42EKVGBKNV\n"
     ]
    }
   ],
   "source": [
    "fileNameInput = 'satLUTinputMOD250_val_2020_2020'\n",
    "fileNameOutput = 'satLUToutputMOD250_val_2020_2020'\n",
    "assetName = 'satLUTMOD250_val_2020_2020'\n",
    "colNames = ['input','output']\n",
    "uploadPickleGEE(bucketName,fileNameInput,fileNameOutput,colNames,assetName,projectName)"
   ]
  },
  {
   "cell_type": "code",
   "execution_count": 114,
   "id": "c34952a8-1a9f-4759-bf87-5f3f893e0230",
   "metadata": {},
   "outputs": [
    {
     "name": "stdout",
     "output_type": "stream",
     "text": [
      "Started upload task with ID: VKHYWMUJ23U7DPNRUMVTY26X\n"
     ]
    }
   ],
   "source": [
    "fileNameInput = 'unsatLUTinputMOD250_val_2011_2019'\n",
    "fileNameOutput = 'unsatLUToutputMOD250_val_2011_2019'\n",
    "assetName = 'unsatLUTMOD250_val_2011_2019'\n",
    "colNames = ['input','output']\n",
    "uploadPickleGEE(bucketName,fileNameInput,fileNameOutput,colNames,assetName,projectName)"
   ]
  },
  {
   "cell_type": "code",
   "execution_count": 115,
   "id": "347c2d22-6b50-453e-8258-3606032cffcc",
   "metadata": {},
   "outputs": [
    {
     "name": "stdout",
     "output_type": "stream",
     "text": [
      "Started upload task with ID: WKHSMX4JNVURYNVDLL5YEC2N\n"
     ]
    }
   ],
   "source": [
    "fileNameInput = 'satLUTinputMOD250_val_2011_2019'\n",
    "fileNameOutput = 'satLUToutputMOD250_val_2011_2019'\n",
    "assetName = 'satLUTMOD250_val_2011_2019'\n",
    "colNames = ['input','output']\n",
    "uploadPickleGEE(bucketName,fileNameInput,fileNameOutput,colNames,assetName,projectName)"
   ]
  },
  {
   "cell_type": "code",
   "execution_count": null,
   "id": "0affa731-8e12-461f-949a-a70f484a49ec",
   "metadata": {},
   "outputs": [],
   "source": [
    "fileNameInput = 'unsatLUTinputMOD250_val_2006_2010'\n",
    "fileNameOutput = 'unsatLUToutputMOD250_val_2006_2010'\n",
    "assetName = 'unsatLUTMOD250_val_2006_2010'\n",
    "colNames = ['input','output']\n",
    "uploadPickleGEE(bucketName,fileNameInput,fileNameOutput,colNames,assetName,projectName)"
   ]
  },
  {
   "cell_type": "code",
   "execution_count": null,
   "id": "46d9ab3f-fb07-405b-923d-b284cfc67b2f",
   "metadata": {},
   "outputs": [],
   "source": [
    "fileNameInput = 'satLUTinputMOD250_val_2006_2010'\n",
    "fileNameOutput = 'satLUToutputMOD250_val_2006_2010'\n",
    "assetName = 'satLUTMOD250_val_2006_2010'\n",
    "colNames = ['input','output']\n",
    "uploadPickleGEE(bucketName,fileNameInput,fileNameOutput,colNames,assetName,projectName)"
   ]
  },
  {
   "cell_type": "code",
   "execution_count": null,
   "id": "1223871f-034a-4a63-a338-014bfc0e7300",
   "metadata": {},
   "outputs": [],
   "source": [
    "fileNameInput = 'unsatLUTinputMOD250_val_2000_2005'\n",
    "fileNameOutput = 'unsatLUToutputMOD250_val_2000_2005'\n",
    "assetName = 'unsatLUTMOD250_val_2000_2005'\n",
    "colNames = ['input','output']\n",
    "uploadPickleGEE(bucketName,fileNameInput,fileNameOutput,colNames,assetName,projectName)"
   ]
  },
  {
   "cell_type": "code",
   "execution_count": null,
   "id": "293b3464-4962-41d5-a32e-04ac82b418ee",
   "metadata": {},
   "outputs": [],
   "source": [
    "fileNameInput = 'satLUTinputMOD250_val_2000_2005'\n",
    "fileNameOutput = 'satLUToutputMOD250_val_2000_2005'\n",
    "assetName = 'satLUTMOD250_val_2000_2005'\n",
    "colNames = ['input','output']\n",
    "uploadPickleGEE(bucketName,fileNameInput,fileNameOutput,colNames,assetName,projectName)"
   ]
  },
  {
   "cell_type": "code",
   "execution_count": null,
   "id": "7c3b3098-a49d-4db1-aa5d-1a869a0da727",
   "metadata": {},
   "outputs": [],
   "source": []
  }
 ],
 "metadata": {
  "kernelspec": {
   "display_name": "Python 3",
   "language": "python",
   "name": "python3"
  },
  "language_info": {
   "codemirror_mode": {
    "name": "ipython",
    "version": 3
   },
   "file_extension": ".py",
   "mimetype": "text/x-python",
   "name": "python",
   "nbconvert_exporter": "python",
   "pygments_lexer": "ipython3",
   "version": "3.9.7"
  }
 },
 "nbformat": 4,
 "nbformat_minor": 5
}
